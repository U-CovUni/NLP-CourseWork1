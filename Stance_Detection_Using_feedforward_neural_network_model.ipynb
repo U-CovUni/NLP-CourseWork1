{
  "nbformat": 4,
  "nbformat_minor": 0,
  "metadata": {
    "colab": {
      "provenance": [],
      "include_colab_link": true
    },
    "kernelspec": {
      "name": "python3",
      "display_name": "Python 3"
    },
    "language_info": {
      "name": "python"
    }
  },
  "cells": [
    {
      "cell_type": "markdown",
      "metadata": {
        "id": "view-in-github",
        "colab_type": "text"
      },
      "source": [
        "<a href=\"https://colab.research.google.com/github/U-CovUni/NLP-CourseWork1/blob/main/Stance_Detection_Using_feedforward_neural_network_model.ipynb\" target=\"_parent\"><img src=\"https://colab.research.google.com/assets/colab-badge.svg\" alt=\"Open In Colab\"/></a>"
      ]
    },
    {
      "cell_type": "code",
      "execution_count": null,
      "metadata": {
        "colab": {
          "base_uri": "https://localhost:8080/"
        },
        "id": "-tLv6gDqHdza",
        "outputId": "bcf9d2e9-062d-4395-800a-7783e6f179bc"
      },
      "outputs": [
        {
          "output_type": "stream",
          "name": "stdout",
          "text": [
            "Model: \"sequential\"\n",
            "_________________________________________________________________\n",
            " Layer (type)                Output Shape              Param #   \n",
            "=================================================================\n",
            " dense (Dense)               (None, 512)               3825664   \n",
            "                                                                 \n",
            " dropout (Dropout)           (None, 512)               0         \n",
            "                                                                 \n",
            " dense_1 (Dense)             (None, 512)               262656    \n",
            "                                                                 \n",
            " dropout_1 (Dropout)         (None, 512)               0         \n",
            "                                                                 \n",
            " dense_2 (Dense)             (None, 3)                 1539      \n",
            "                                                                 \n",
            "=================================================================\n",
            "Total params: 4089859 (15.60 MB)\n",
            "Trainable params: 4089859 (15.60 MB)\n",
            "Non-trainable params: 0 (0.00 Byte)\n",
            "_________________________________________________________________\n",
            "Epoch 1/10\n",
            "71/71 [==============================] - 7s 83ms/step - loss: 1.0121 - accuracy: 0.4802 - val_loss: 0.9279 - val_accuracy: 0.5826\n",
            "Epoch 2/10\n",
            "71/71 [==============================] - 4s 59ms/step - loss: 0.5805 - accuracy: 0.7894 - val_loss: 0.9174 - val_accuracy: 0.5933\n",
            "Epoch 3/10\n",
            "71/71 [==============================] - 4s 61ms/step - loss: 0.1285 - accuracy: 0.9591 - val_loss: 1.1422 - val_accuracy: 0.5844\n",
            "Epoch 4/10\n",
            "71/71 [==============================] - 6s 80ms/step - loss: 0.0223 - accuracy: 0.9969 - val_loss: 1.2642 - val_accuracy: 0.6092\n",
            "Epoch 5/10\n",
            "71/71 [==============================] - 4s 59ms/step - loss: 0.0107 - accuracy: 0.9982 - val_loss: 1.3816 - val_accuracy: 0.5755\n",
            "Epoch 6/10\n",
            "71/71 [==============================] - 4s 59ms/step - loss: 0.0029 - accuracy: 1.0000 - val_loss: 1.4432 - val_accuracy: 0.5986\n",
            "Epoch 7/10\n",
            "71/71 [==============================] - 5s 77ms/step - loss: 0.0013 - accuracy: 1.0000 - val_loss: 1.5098 - val_accuracy: 0.5879\n",
            "Epoch 8/10\n",
            "71/71 [==============================] - 4s 56ms/step - loss: 9.5887e-04 - accuracy: 1.0000 - val_loss: 1.5419 - val_accuracy: 0.5968\n",
            "Epoch 9/10\n",
            "71/71 [==============================] - 4s 54ms/step - loss: 0.0011 - accuracy: 0.9996 - val_loss: 1.5774 - val_accuracy: 0.5915\n",
            "Epoch 10/10\n",
            "71/71 [==============================] - 5s 65ms/step - loss: 7.0255e-04 - accuracy: 1.0000 - val_loss: 1.6142 - val_accuracy: 0.5915\n",
            "18/18 - 0s - loss: 1.6142 - accuracy: 0.5915 - 173ms/epoch - 10ms/step\n",
            "Test Accuracy: 0.5914742350578308\n"
          ]
        }
      ],
      "source": [
        "#Importing the dependencies\n",
        "import pandas as pd\n",
        "from sklearn.model_selection import train_test_split\n",
        "from sklearn.feature_extraction.text import CountVectorizer\n",
        "from sklearn.preprocessing import LabelEncoder\n",
        "from tensorflow.keras.models import Sequential\n",
        "from tensorflow.keras.layers import Dense, Dropout\n",
        "from tensorflow.keras.utils import to_categorical\n",
        "from sklearn.metrics import accuracy_score\n",
        "\n",
        "# Loading the dataset from googledrive\n",
        "file_path = '/content/drive/MyDrive/SemEval_in_tweets/semeval.csv'\n",
        "data = pd.read_csv(file_path)\n",
        "\n",
        "# Converting the stance labels to numerical format\n",
        "stance_mapping = {'AGAINST': 0, 'FAVOR': 1, 'NONE': 2}\n",
        "data['Stance'] = data['Stance'].map(stance_mapping)\n",
        "\n",
        "# Splitting the data into training and test sets\n",
        "train_data, test_data = train_test_split(data, test_size=0.2, random_state=42)\n",
        "\n",
        "# Initializing the CountVectorizer (Bag of Words)\n",
        "vectorizer = CountVectorizer(max_features=10000, stop_words='english')\n",
        "\n",
        "# Fitting and transforming the training data, transform the test data\n",
        "X_train = vectorizer.fit_transform(train_data['Tweet']).toarray()\n",
        "X_test = vectorizer.transform(test_data['Tweet']).toarray()\n",
        "\n",
        "# Extracting the labels\n",
        "y_train = train_data['Stance']\n",
        "y_test = test_data['Stance']\n",
        "\n",
        "# Encoding the labels\n",
        "encoder = LabelEncoder()\n",
        "y_train_encoded = encoder.fit_transform(y_train)\n",
        "y_test_encoded = encoder.transform(y_test)\n",
        "\n",
        "# Converting labels to categorical (one-hot encoding)\n",
        "y_train_categorical = to_categorical(y_train_encoded, num_classes=3)\n",
        "y_test_categorical = to_categorical(y_test_encoded, num_classes=3)\n",
        "\n",
        "# Building the neural network model\n",
        "model = Sequential([\n",
        "    Dense(512, input_shape=(X_train.shape[1],), activation='relu'),\n",
        "    Dropout(0.5),\n",
        "    Dense(512, activation='relu'),\n",
        "    Dropout(0.5),\n",
        "    Dense(3, activation='softmax')\n",
        "])\n",
        "\n",
        "# Compiling the model\n",
        "model.compile(loss='categorical_crossentropy',\n",
        "              optimizer='adam',\n",
        "              metrics=['accuracy'])\n",
        "\n",
        "# Summary of the model\n",
        "model.summary()\n",
        "\n",
        "# Model training\n",
        "history = model.fit(X_train, y_train_categorical, epochs=10, validation_data=(X_test, y_test_categorical), batch_size=32)\n",
        "\n",
        "# EModel Evaluation\n",
        "loss, accuracy = model.evaluate(X_test, y_test_categorical, verbose=2)\n",
        "print(f'Test Accuracy: {accuracy}')\n"
      ]
    }
  ]
}